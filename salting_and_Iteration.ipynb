{
  "nbformat": 4,
  "nbformat_minor": 0,
  "metadata": {
    "colab": {
      "name": "salting and Iteration.ipynb",
      "provenance": []
    },
    "kernelspec": {
      "name": "python3",
      "display_name": "Python 3"
    },
    "language_info": {
      "name": "python"
    }
  },
  "cells": [
    {
      "cell_type": "code",
      "metadata": {
        "id": "f1v_ZbPK0a13"
      },
      "source": [
        "import hashlib"
      ],
      "execution_count": 1,
      "outputs": []
    },
    {
      "cell_type": "markdown",
      "metadata": {
        "id": "-3BiCOsO1Ias"
      },
      "source": [
        "# **ITERATION**"
      ]
    },
    {
      "cell_type": "code",
      "metadata": {
        "colab": {
          "base_uri": "https://localhost:8080/"
        },
        "id": "YmjeLBgH1Es1",
        "outputId": "a8862ccd-fbe9-4879-dc96-0596012654a6"
      },
      "source": [
        "Hashing = input(\"Enter the word to be Hashed : \")\n",
        "\n",
        "enc = hashlib.md5(Hashing.encode())\n",
        "\n",
        "hex_d = enc.hexdigest()\n",
        "\n",
        "for i in range(1,3):\n",
        "  hex_d = (hex_d + hex_d)\n",
        "  for j in range(1,3):\n",
        "    hex_d5 = hashlib.md5(hex_d.encode())\n",
        "\n",
        "print(\"HASHED FORM :\",hex_d5.hexdigest())"
      ],
      "execution_count": 2,
      "outputs": [
        {
          "output_type": "stream",
          "text": [
            "Enter the word to be Hashed : sreehari\n",
            "HASHED FORM : fa30584fbfa450a707802bb65712bf82\n"
          ],
          "name": "stdout"
        }
      ]
    },
    {
      "cell_type": "markdown",
      "metadata": {
        "id": "BJAV69On1ZPy"
      },
      "source": [
        "# **SALTING AND ITERATION**"
      ]
    },
    {
      "cell_type": "code",
      "metadata": {
        "colab": {
          "base_uri": "https://localhost:8080/"
        },
        "id": "JhEvgI7q1dCy",
        "outputId": "f515b92a-5c5d-4dee-845c-742204c722e3"
      },
      "source": [
        "Hashing = input(\"Enter the word to be Hashed : \")\n",
        "\n",
        "enc = hashlib.md5(Hashing.encode())\n",
        "\n",
        "enc.update(b\"abcd\")\n",
        "\n",
        "hex_d = enc.hexdigest()\n",
        "\n",
        "for i in range(1,3):\n",
        "  hex_d += (hex_d)\n",
        "  for j in range(1,3):\n",
        "    hex_d5 = hashlib.md5(hex_d.encode())\n",
        "print(\"HASHED FORM : \",hex_d5.hexdigest())"
      ],
      "execution_count": 3,
      "outputs": [
        {
          "output_type": "stream",
          "text": [
            "Enter the word to be Hashed : sreehari\n",
            "HASHED FORM :  13f3fbb7eea5ad9e082c3a74e95fde29\n"
          ],
          "name": "stdout"
        }
      ]
    }
  ]
}