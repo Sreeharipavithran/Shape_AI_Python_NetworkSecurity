{
  "nbformat": 4,
  "nbformat_minor": 0,
  "metadata": {
    "colab": {
      "name": "Hashing with md5.ipynb",
      "provenance": []
    },
    "kernelspec": {
      "name": "python3",
      "display_name": "Python 3"
    },
    "language_info": {
      "name": "python"
    }
  },
  "cells": [
    {
      "cell_type": "code",
      "metadata": {
        "id": "KlnOXGkx0MCz"
      },
      "source": [
        "import hashlib"
      ],
      "execution_count": 1,
      "outputs": []
    },
    {
      "cell_type": "code",
      "metadata": {
        "colab": {
          "base_uri": "https://localhost:8080/"
        },
        "id": "svtQmBlt0ixx",
        "outputId": "61e02b59-7b42-48c1-d0d6-44fddbf58c37"
      },
      "source": [
        "Hashing = input(\"Enter the word to be Hashed : \")\n",
        "\n",
        "enc = hashlib.md5(Hashing.encode())\n",
        "\n",
        "print(\"HASHED FORM : \",enc.hexdigest())\n"
      ],
      "execution_count": 2,
      "outputs": [
        {
          "output_type": "stream",
          "text": [
            "Enter the word to be Hashed : sreehari\n",
            "HASHED FORM :  0648e338e5ab4060ee6875f1e2f3f600\n"
          ],
          "name": "stdout"
        }
      ]
    }
  ]
}