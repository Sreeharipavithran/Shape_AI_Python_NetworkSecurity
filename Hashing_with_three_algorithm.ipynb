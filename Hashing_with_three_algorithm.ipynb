{
  "nbformat": 4,
  "nbformat_minor": 0,
  "metadata": {
    "colab": {
      "name": "Hashing with three algorithm.ipynb",
      "provenance": []
    },
    "kernelspec": {
      "name": "python3",
      "display_name": "Python 3"
    },
    "language_info": {
      "name": "python"
    }
  },
  "cells": [
    {
      "cell_type": "code",
      "metadata": {
        "id": "mdWy7uy50TLc"
      },
      "source": [
        "import hashlib"
      ],
      "execution_count": 1,
      "outputs": []
    },
    {
      "cell_type": "code",
      "metadata": {
        "colab": {
          "base_uri": "https://localhost:8080/"
        },
        "id": "5RrxWUEO0wDp",
        "outputId": "5773e9fb-c9b9-4819-dca0-dabff9658c86"
      },
      "source": [
        "Hashing = input(\"Enter the word to be Hashed : \")\n",
        "\n",
        "enc = hashlib.sha3_224(Hashing.encode())\n",
        "\n",
        "enc = hashlib.sha1(Hashing.encode())\n",
        "\n",
        "enc = hashlib.blake2b(Hashing.encode())\n",
        "\n",
        "print(\"HASHED FORM :\",enc.hexdigest())"
      ],
      "execution_count": 3,
      "outputs": [
        {
          "output_type": "stream",
          "text": [
            "Enter the word to be Hashed : sreehari\n",
            "HASHED FORM : a55d35b3af0d5772461ae83ed8fbd7d3f9d79f6f84f5bd73ceee8ec691aad12d7fa929e96ce9a0b1a89eb72f2a039573d1f8a72c96f209e15b41ad3a4640b40a\n"
          ],
          "name": "stdout"
        }
      ]
    },
    {
      "cell_type": "code",
      "metadata": {
        "id": "FZm-LP8i0-Mj"
      },
      "source": [
        ""
      ],
      "execution_count": null,
      "outputs": []
    }
  ]
}